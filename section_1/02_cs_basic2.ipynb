{
  "nbformat": 4,
  "nbformat_minor": 0,
  "metadata": {
    "colab": {
      "name": "02_cs_basic2.ipynb",
      "provenance": [],
      "collapsed_sections": [],
      "authorship_tag": "ABX9TyPz52VHi6pfSta10ac+VdRM",
      "include_colab_link": true
    },
    "kernelspec": {
      "name": "python3",
      "display_name": "Python 3"
    }
  },
  "cells": [
    {
      "cell_type": "markdown",
      "metadata": {
        "id": "view-in-github",
        "colab_type": "text"
      },
      "source": [
        "<a href=\"https://colab.research.google.com/github/yukinaga/minnano_cs/blob/main/section_1/02_cs_basic2.ipynb\" target=\"_parent\"><img src=\"https://colab.research.google.com/assets/colab-badge.svg\" alt=\"Open In Colab\"/></a>"
      ]
    },
    {
      "cell_type": "markdown",
      "metadata": {
        "id": "TNv4hdkBlzN9"
      },
      "source": [
        "# コンピュータサイエンスの基礎2\n",
        "コンピュータサイエンスの基礎として、論理と論理演算について学びます。"
      ]
    },
    {
      "cell_type": "markdown",
      "metadata": {
        "id": "DVdQh7hyrp47"
      },
      "source": [
        "## ◎論理\n",
        "プログラマは、問題を解決するために「論理」を多用します。  \n",
        "論理を用いることで、あやふやな現実世界をコンピュータに理解可能な明確な問題に落とし込むことができます。"
      ]
    },
    {
      "cell_type": "markdown",
      "metadata": {
        "id": "Crn0yGKbsMIs"
      },
      "source": [
        "### 論理変数\n",
        "以下の**論理変数**AとBを考えます。  \n",
        "  \n",
        "$A$: 外気温が高い  \n",
        "$B$: 外にでかける  \n",
        "  \n",
        "論理変数$A$と$B$はそれぞれ「True」か「False」どちらかの値をとります。   \n",
        "これは、以下を意味します。  \n",
        "  \n",
        "$A$=True: 外気温が高い  \n",
        "$A$=False: 外気温が高くない  \n",
        "$B$=True: 外にでかける    \n",
        "$B$=False: 外にでかけない    \n",
        "  \n",
        "$A$と$B$は、TrueとFalseの中間の値はとりません。  \n",
        "  \n",
        "Pythonでは、`True`もしくは`False`が入った変数で論理変数を表すことができます。  \n",
        "\n"
      ]
    },
    {
      "cell_type": "code",
      "metadata": {
        "id": "x-sKuK8i7nTu"
      },
      "source": [
        "a = True \n",
        "b = False\n",
        "print(a, b)"
      ],
      "execution_count": null,
      "outputs": []
    },
    {
      "cell_type": "markdown",
      "metadata": {
        "id": "Bj-pXviWt0OX"
      },
      "source": [
        "### 演算子\n",
        "論理変数間の依存関係を、**条件演算子**「$\\rightarrow$」を使って表します。  \n",
        "以下の式は、$A$=Trueであれば$B$=True、すなわち外気温が高ければ外に出かける、という「命題」を表します。  \n",
        "  \n",
        "$$A\\rightarrow B$$\n",
        "\n",
        "命題とは、言語や式によって表したある判断のことです。  \n",
        "Pythonでは、if文を使って条件演算子を表すことができます。"
      ]
    },
    {
      "cell_type": "code",
      "metadata": {
        "id": "89Bdmm-UltM_"
      },
      "source": [
        "a = True  # 外気温が高いかどうか\n",
        "if a:  # aがTrueであれば、内部の処理を実行\n",
        "    b = True  # 外に出かける\n",
        "    print(\"b: \", b)"
      ],
      "execution_count": null,
      "outputs": []
    },
    {
      "cell_type": "markdown",
      "metadata": {
        "id": "mROiWjUr8NYW"
      },
      "source": [
        "論理変数を否定するためには、**否定演算子**「$!$」を使います。  \n",
        "この演算子をつかうことで、$A$と$B$の意味は次のように変化します。  \n",
        "  \n",
        "$!A$: は外気温が高くない  \n",
        "$!B$: 外出しない\n",
        "\n",
        "Pythonでは、否定演算子を`not`を使って表すことができます。  "
      ]
    },
    {
      "cell_type": "code",
      "metadata": {
        "id": "-v-7IpFZ-FAo"
      },
      "source": [
        "a = True\n",
        "b = False\n",
        "print(\"not a: \", not a)\n",
        "print(\"not b: \", not b)"
      ],
      "execution_count": null,
      "outputs": []
    },
    {
      "cell_type": "markdown",
      "metadata": {
        "id": "Sww_C_Vd-IaR"
      },
      "source": [
        "複数のこのような演算子を使うことで、さまざまな命題を表現することができます。  "
      ]
    },
    {
      "cell_type": "markdown",
      "metadata": {
        "id": "gxiTiO0K-3-q"
      },
      "source": [
        "### 対偶\n",
        "$ A\\rightarrow B $であれば、**対偶**$!B\\rightarrow !A$が成り立ちます。  \n",
        "また、$!B\\rightarrow !A$であれば、$ A\\rightarrow B $が成り立ちます。  \n",
        "\n",
        "すなわち、「外気温が高ければ外に出かける」のであれば、対偶「外に出かけないのであれば外気温が高くない」が成り立ちます。  \n",
        "また、「外に出かけないのであれば外気温が高くない」のであれば、対偶「外気温が高ければ外に出かける」が成り立ちます。\n",
        "\n",
        "このように、異なる複数の条件式が全く同じ命題を表すことがあります。  "
      ]
    },
    {
      "cell_type": "markdown",
      "metadata": {
        "id": "ErtqA9hDCpyO"
      },
      "source": [
        "### 双条件\n",
        "「外気温が高ければ外に出かける」、は「外に出かけるのであれば外気温が高い」を意味しません。  \n",
        "外気温が高くなくても、外に出かけることがあるかもしれません。  \n",
        "すなわち、$ A\\rightarrow B $であっても、$B\\rightarrow A$が成り立つとは限りません。  \n",
        "\n",
        "両者を満たすのは、以下のように表記する**双条件**です。  \n",
        "  \n",
        "$$ A\\leftrightarrow B $$\n",
        "\n",
        "「外気温が高い時のみ、外に出かける」は、「外に出かけるのであれば外気温が高い」ということになり、双条件となります。"
      ]
    },
    {
      "cell_type": "markdown",
      "metadata": {
        "id": "BYQ857whFfCG"
      },
      "source": [
        "## ◎論理演算\n",
        "「ブール値」はTrueからFalseのどちらかをとる値ですが、これらを使った演算は論理演算（ブール演算）と呼ばれます。  "
      ]
    },
    {
      "cell_type": "markdown",
      "metadata": {
        "id": "AlG_Q64NFbNg"
      },
      "source": [
        "### 論理演算子\n",
        "論理演算は論理演算子を使って表記しますが、代表的な論理演算子には以下のものあります。  \n",
        "  \n",
        "---------------------------------\n",
        "論理積: **AND**  \n",
        "両者がTrueであればTrueを返す。そうでなければFalseを返す。　  \n",
        "\n",
        "論理和: **OR**  \n",
        "少なくともどちらかがTrueであればTrueを返す。両者がFalseであればFalseを返す。\n",
        "\n",
        "排他的論理和: **XOR**  \n",
        "どちらか一方がTrueの場合のみTrueを返す。両者がFalseもしくはTrueであればFalseを返す。\n",
        "\n",
        "否定: **！**  \n",
        "TrueであればFalesを返し、FalseであればTrueを返す。\n",
        "\n",
        "---------------------------------\n",
        "\n",
        "以下は論理演算の例です。大学入試の合格条件を考えます。  \n",
        "  \n",
        "$A$: 英語が合格点  \n",
        "$B$: 数学が合格点  \n",
        "  \n",
        "$A$ **AND** $B$: 英語と数学ともに合格点  \n",
        "$A$ **OR** $B$: 少なくとも英語と数学のどちらか一方は合格点  \n",
        "$A$ **XOR** $B$: 英語と数学のどちらかが合格点で、もう片方は合格点に満たない  \n",
        "**!**$A$: 英語が合格点に満たない  \n",
        "**!**$B$: 数学が合格点に満たない\n",
        "\n",
        "Pythonでは、`and`でAND演算子を、`or`でOR演算子を、`^`でXOR演算子を、`not`で!演算子を実装することができます。  "
      ]
    },
    {
      "cell_type": "code",
      "metadata": {
        "id": "tmtjdVB1Ns3q"
      },
      "source": [
        "a = True\n",
        "b = False\n",
        "\n",
        "print(\"AND: \", a and b)\n",
        "print(\"OR: \", a or b)\n",
        "print(\"XOR: \", a ^ b)\n",
        "print(\"!: \", not a)"
      ],
      "execution_count": null,
      "outputs": []
    },
    {
      "cell_type": "markdown",
      "metadata": {
        "id": "fcc7NBeUQ8iV"
      },
      "source": [
        "### 論理演算における法則\n",
        "通常の数値に対する演算と同様に、論理演算においても様々な法則が存在します。  \n",
        "\n",
        "#### ○結合則\n",
        "AND演算子とOR演算子は、演算の順番を入れ替えることができます。  \n",
        "  \n",
        "($A$ **AND** $B$) **AND** $C$ = $A$ **AND** ($B$ **AND** $C$)  \n",
        "($A$ **OR** $B$) **OR** $C$ = $A$ **OR** ($B$ **OR** $C$)  \n",
        "  \n",
        "#### ○分配則\n",
        "AND演算子とOR演算子は、通常の数値における掛け算のように展開を行うことができます。  \n",
        "  \n",
        "$A$ **OR** ($B$ **AND** $C$ ) = ( $A$ **OR** $B$ ) AND ( $A$ **OR** $C$ )   \n",
        "$A$ **AND** ($B$ **OR** $C$ ) = ( $A$ **AND** $B$ ) OR ( $A$ **AND** $C$ )   \n",
        "\n",
        "#### ○ド・モルガンの法則\n",
        "「両者を満たす」の否定は、「少なくともどちらか一方が否定されている」に等しくなります。 \n",
        "  \n",
        "!($A$ **AND** $B$ ) = $!A$ **OR** $!B$  \n",
        "!($A$ **OR** $B$ ) = $!A$ **AND** $!B$  \n"
      ]
    },
    {
      "cell_type": "markdown",
      "metadata": {
        "id": "VROfsgn7eLr7"
      },
      "source": [
        "## @ 演習"
      ]
    },
    {
      "cell_type": "markdown",
      "metadata": {
        "id": "8WDce1OZeSDx"
      },
      "source": [
        "### 演習1\n",
        "対偶、双条件の例を1つずつ挙げましょう。  \n",
        "  \n",
        "例:  \n",
        "対偶: 「外気温が高ければ外に出かける」の対偶「外に出かけないのであれば外気温が高くない」   \n",
        "双条件: 「外気温が高い時のみ、外に出かける」"
      ]
    },
    {
      "cell_type": "markdown",
      "metadata": {
        "id": "f0ccaSUNAkQi"
      },
      "source": [
        "### 演習2\n",
        "以下のコードを、分配則を使ってシンプルに書きかえましょう。"
      ]
    },
    {
      "cell_type": "code",
      "metadata": {
        "id": "_zLzPeFko8by"
      },
      "source": [
        "a = True\n",
        "b = False\n",
        "c = True\n",
        "\n",
        "if (a and b) or (a and c):  # この行を書きかえる\n",
        "    print(\"Hello, Computer Science!\")"
      ],
      "execution_count": null,
      "outputs": []
    },
    {
      "cell_type": "code",
      "metadata": {
        "id": "BoAIV2qEpIjF"
      },
      "source": [
        ""
      ],
      "execution_count": null,
      "outputs": []
    },
    {
      "cell_type": "markdown",
      "metadata": {
        "id": "nLuRnOSGjYs5"
      },
      "source": [
        "## @解答例"
      ]
    },
    {
      "cell_type": "markdown",
      "metadata": {
        "id": "KTGidDhujeeP"
      },
      "source": [
        "### 演習1"
      ]
    },
    {
      "cell_type": "markdown",
      "metadata": {
        "id": "O_LUDo_2qRNA"
      },
      "source": [
        "対偶の例:  \n",
        "「夏が来るとセミが鳴く」の対偶は「セミが鳴かなければ夏が来ない」\n",
        "\n",
        "双条件の例:  \n",
        "「夏である時だけ、プールに行く」\n"
      ]
    },
    {
      "cell_type": "markdown",
      "metadata": {
        "id": "l3INbZPyrjTM"
      },
      "source": [
        "### 演習2"
      ]
    },
    {
      "cell_type": "code",
      "metadata": {
        "id": "xex8jOSLr9ns"
      },
      "source": [
        "a = True\n",
        "b = False\n",
        "c = True\n",
        "\n",
        "if a and (b or c):  # この行を書きかえる\n",
        "    print(\"Hello, Computer Science!\")"
      ],
      "execution_count": null,
      "outputs": []
    }
  ]
}