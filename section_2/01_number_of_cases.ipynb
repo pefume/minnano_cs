{
  "nbformat": 4,
  "nbformat_minor": 0,
  "metadata": {
    "colab": {
      "name": "01_number_of_cases.ipynb",
      "provenance": [],
      "collapsed_sections": [],
      "authorship_tag": "ABX9TyMZ8uHF1AxB1V8DQlNkgWII",
      "include_colab_link": true
    },
    "kernelspec": {
      "name": "python3",
      "display_name": "Python 3"
    }
  },
  "cells": [
    {
      "cell_type": "markdown",
      "metadata": {
        "id": "view-in-github",
        "colab_type": "text"
      },
      "source": [
        "<a href=\"https://colab.research.google.com/github/yukinaga/minnano_cs/blob/main/section_2/01_number_of_cases.ipynb\" target=\"_parent\"><img src=\"https://colab.research.google.com/assets/colab-badge.svg\" alt=\"Open In Colab\"/></a>"
      ]
    },
    {
      "cell_type": "markdown",
      "metadata": {
        "id": "hxyDBv5X05ZR"
      },
      "source": [
        "# 場合の数と確率\n",
        "場合の数の数え方、および世の中の現象を確率で表す方法について学びます。"
      ]
    },
    {
      "cell_type": "markdown",
      "metadata": {
        "id": "HmZjY0XS8ZiE"
      },
      "source": [
        "## ◎場合の数\n",
        "プログラムでは同様の処理を繰り返すことが多いので、場合の数をカウントすることは計算量を見積もる上で重要になります。"
      ]
    },
    {
      "cell_type": "markdown",
      "metadata": {
        "id": "7uIY0yx7OSqy"
      },
      "source": [
        "### シンプルな乗算\n",
        "ある事象では$n_1$通りのことが起きる可能性があり、ある事象では$n_2$通りのことが起きる可能性がある場合、2つの事象を合わせると$n_1 \\times n_2$通りのことが起きる可能性があることになります。  \n",
        "\n",
        "例として、10名がそれぞれコイントスして、コインの裏表により2つのグループに分けるケースを考えます。  \n",
        "2つのグループの人数が等しいとは限りません。  \n",
        "チームの組み合わせは何通りあるでしょうか。  \n",
        "  \n",
        "10名それぞれがコインを投げるので、\n",
        "\n",
        "$$n \\times n\\times n\\times n\\times n\\times n\\times n\\times n\\times n\\times n = n^{10}$$\n",
        "\n",
        "を考えればよく、コインは裏表の2通りなので、$n=2$となり$2^{10}=1024$通りのグループ分けがあることになります。  \n",
        "これは、Pythonを使えば以下のように計算することができます。"
      ]
    },
    {
      "cell_type": "code",
      "metadata": {
        "id": "SF6Q_u7tbkl1"
      },
      "source": [
        "n = 2  # 2通り\n",
        "print(n**10)"
      ],
      "execution_count": null,
      "outputs": []
    },
    {
      "cell_type": "markdown",
      "metadata": {
        "id": "v1ipFBX9diBs"
      },
      "source": [
        "### 階乗\n",
        "n個の要素を順番に並べます。  \n",
        "この場合、並べ方の総数は以下で表される**階乗**により求めることができます。  \n",
        "\n",
        "$$n!=n\\times(n-1)\\times(n-2)\\times\\cdots\\times 2\\times 1$$\n",
        "\n",
        "ここで、「巡回セールスマン問題」と呼ばれる問題を考えます。  \n",
        "巡回セールスマン問題は、全ての都市をちょうど一度ずつ巡り出発地に戻る経路の中でトータルの移動コストが最小のものを求める問題です。  \n",
        "例えば、10都市を自動車で巡る場合を考えます。  \n",
        "1つの経路のガソリン消費量をを計算するのに0.001秒必要だとすると、全ての経路のガソリン消費量を計算するためには以下の時間が必要になります。  \n",
        "\n",
        "$$0.001\\times 10!$$\n",
        "\n",
        "この値をPythonを使って計算してみましょう。  \n",
        "mathモジュールの`factorial()`関数により階乗を計算した値を求めることができます。"
      ]
    },
    {
      "cell_type": "code",
      "metadata": {
        "id": "DIKF5k3Pqtb6"
      },
      "source": [
        "import math\n",
        "\n",
        "n = 10  # 都市の数\n",
        "print(\"所要時間（秒）: \", 0.001 * math.factorial(n))"
      ],
      "execution_count": null,
      "outputs": []
    },
    {
      "cell_type": "markdown",
      "metadata": {
        "id": "e2cEdJIps4fQ"
      },
      "source": [
        "10都市の場合、1時間程度で全ての組み合わせのガソリン消費量を計算できることになります。  \n",
        "しかしながら、都市の数がさらに増えると計算の所要時間は爆発的に増えていきます。  \n",
        "ぜひ、上記のコードで確かめてみてください。"
      ]
    },
    {
      "cell_type": "markdown",
      "metadata": {
        "id": "5b-gfs8bFW1L"
      },
      "source": [
        "### 順列\n",
        "順列は、m個のものからn個を選んで並べたものですが、以下の公式で表されます。  \n",
        "\n",
        "$${}_mP_n = m(m-1)\\cdots(m-n+1) = \\frac{m!}{(m-n)!}$$\n",
        "\n",
        "例えば4枚の異なるカードA、B、C、Dから2枚選んで並べる場合の数は、以下の通りに求めることができます。  \n",
        "\n",
        "$${}_4 P _2 = \\frac{4!}{(4-2)!} = 12$$\n",
        "\n",
        "実際に、この場合カードの並び方は以下の12通りになります。  \n",
        "\n",
        "AB  \n",
        "AC  \n",
        "AD  \n",
        "BA  \n",
        "BC  \n",
        "BD  \n",
        "CA  \n",
        "CB  \n",
        "CD  \n",
        "DA  \n",
        "DB  \n",
        "DC  \n",
        "\n",
        "ABとBAは別にカウントされていますね。  \n",
        "このように、順列では並ぶ順番が区別されます。   \n",
        "順列は、mathモジュールの`factorial()`関数により計算することができます。\n"
      ]
    },
    {
      "cell_type": "code",
      "metadata": {
        "id": "v_T7jkQqNeJ1"
      },
      "source": [
        "import math\n",
        "\n",
        "m = 4\n",
        "n = 2\n",
        "m_P_n = math.factorial(m) // math.factorial(m-n)  \n",
        "print(\"順列: \", m_P_n)"
      ],
      "execution_count": null,
      "outputs": []
    },
    {
      "cell_type": "markdown",
      "metadata": {
        "id": "ZSfIBFazWNsN"
      },
      "source": [
        " ### 組み合わせ\n",
        "組み合わせは、m個のものからn個を順番を区別せずに選んだもので、以下の公式で表されます。  \n",
        "\n",
        "$${}_mC_n = \\frac{{}_mP_n}{n!} = \\frac{m!}{(m-n)!n!}$$\n",
        "\n",
        "例えば4枚の異なるカードA、B、C、Dから順番を区別せずに2枚選んで並べる場合の数は、以下の通りに求めることができます。  \n",
        "\n",
        "$${}_4C_2 = \\frac{4!}{(4-2)!2!} = 6$$\n",
        "\n",
        "実際に、この場合カードの選び方は以下の6通りになります。  \n",
        "\n",
        "AB  \n",
        "AC  \n",
        "AD  \n",
        "BC  \n",
        "BD  \n",
        "CD  \n",
        "\n",
        "順列と異なり、ABとBAは同じものとしてカウントされています。  \n",
        "このように、組み合わせでは並ぶ順番が区別されません。   \n",
        "組み合わせは、mathモジュールの`factorial()`関数により計算することができます。"
      ]
    },
    {
      "cell_type": "code",
      "metadata": {
        "id": "Mx53ptPDZuZw"
      },
      "source": [
        "import math\n",
        "\n",
        "m = 4\n",
        "n = 2\n",
        "m_C_n = math.factorial(m) // (math.factorial(m-n)*math.factorial(n))\n",
        "print(\"組み合わせ: \", m_C_n)"
      ],
      "execution_count": null,
      "outputs": []
    },
    {
      "cell_type": "markdown",
      "metadata": {
        "id": "myQA9nuAbna6"
      },
      "source": [
        "## ◎確率\n",
        "\n",
        "**確率**はある現象が起きることが、期待される度合いのことです。"
      ]
    },
    {
      "cell_type": "markdown",
      "metadata": {
        "id": "Jw5Kjog1dBqA"
      },
      "source": [
        "### 確率の計算\n",
        "確率は次の式で表されます。  \n",
        "\n",
        "$$P(A)=\\frac{a}{n}$$\n",
        "\n",
        "この式において、$P(A)$は事象$A$が起きる確率、$a$は事象Aが起きる場合の数、$n$は全ての場合の数です。\n",
        "\n",
        "例として、コインを投げて表が上になる確率を考えましょう。  \n",
        "コインを投げたときに上になる面は、表と裏の2通りですが、どちらの面が上になるのも同じ程度に期待されるものとします。  \n",
        "このとき、場合の数は2となり、表の面が出るという事象$A$の場合の数は1となります。  \n",
        "上記の式に従い、確率は次の通りに求めることができます。\n",
        "\n",
        "$$P(A)=\\frac{a}{n}=\\frac{1}{2}$$\n",
        "\n",
        "表が上になるという事象ですが、50%期待されることになります。\n",
        "\n",
        "同様に、サイコロで4が出るという事象Aが起きる確率は、事象Aの場合の数が1で全ての場合の数が6なので、以下のように求めることができます。\n",
        "\n",
        "$$P(A)=\\frac{a}{n}=\\frac{1}{6}$$\n",
        "\n",
        "$\\frac{1}{6}$なので、約16.7%期待されます。"
      ]
    },
    {
      "cell_type": "markdown",
      "metadata": {
        "id": "unvpwD1MciWb"
      },
      "source": [
        "### 場合の数と確率\n",
        "2つのサイコロを振って、目の合計が4になる確率を求めます。  \n",
        "目の合計が4になるという事象Aは、(1, 3)、(2, 2)、（3, 1）の3つの場合があります。  \n",
        "全ての場合の数は、$6\\times 6=36$通りになります。  \n",
        "従って、この場合の確率は以下の通りになります。\n",
        "\n",
        "$$P(A)=\\frac{a}{n}=\\frac{3}{36}=\\frac{1}{12}$$\n",
        "\n",
        "$\\frac{1}{12}$なので約8.3%です。  \n",
        "2つのサイコロを振って合計が4になるのは、8.3%程度期待できるということになります。"
      ]
    },
    {
      "cell_type": "markdown",
      "metadata": {
        "id": "yTjqkb7LdBqA"
      },
      "source": [
        "### 余事象\n",
        "事象 $A$ に対して「$A$が起こらないという事象」は$A$の**余事象**と呼ばれます。  \n",
        "$A$の余事象は、$\\bar{A}$と表されます。\n",
        "\n",
        "余事象$\\bar{A}$が起きる確率は、事象$A$が起きる確率$P(A)$を用いて次のように求めることができます。  \n",
        "\n",
        "$$P(\\bar{A})=1-P(A)$$\n",
        "\n",
        "2つのサイコロを振って目の合計が4になる確率は$\\frac{1}{12}$でしたが、2つのサイコロを振って目の合計が「4以外になる確率」は、上記の式を使って次のように求めることができます。\n",
        "\n",
        "$$P(\\bar{A})=1-\\frac{1}{12}=\\frac{11}{12}$$\n",
        "\n",
        "$\\frac{11}{12}$の確率で、目の合計は4以外にります。\n",
        "\n",
        "目の合計が4以外になる全ての場合をリストアップするのは大変ですが、余事象を使うことで比較的簡単に確率を求めることができます。"
      ]
    },
    {
      "cell_type": "markdown",
      "metadata": {
        "id": "-XoBlY7rdBqB"
      },
      "source": [
        "### 確率の収束\n",
        "多くの試行を重ねると、事象の発生数を試行数で割った値が確率に収束していきます。  \n",
        "以下は、サイコロを何度も振って4が出た回数を数え、(4が出た回数/サイコロを振った回数)の変遷をグラフで表示するコードです。  \n",
        "`np.random.randint(6)`により、0から5までの整数をランダムに得ることが可能です。"
      ]
    },
    {
      "cell_type": "code",
      "metadata": {
        "id": "SyvPbtOidBqB"
      },
      "source": [
        "import numpy as np\n",
        "import matplotlib.pyplot as plt\n",
        "\n",
        "x = []\n",
        "y = []\n",
        "total = 0  # 試行数\n",
        "num_4 = 0  # 4が出た回数\n",
        "n = 10000  # サイコロを振る回数\n",
        "\n",
        "for i in range(n):\n",
        "    if np.random.randint(6)+1 == 4:  # 0から5までの乱数に1を加えて1から6に\n",
        "        num_4 += 1\n",
        "        \n",
        "    total += 1\n",
        "    x.append(i)\n",
        "    y.append(num_4/total)\n",
        "    \n",
        "plt.plot(x, y)\n",
        "plt.plot(x, [1/6]*n, linestyle=\"dashed\")  # yは1/6がn個入る\n",
        "\n",
        "plt.xlabel(\"X\", size=12)\n",
        "plt.ylabel(\"Y\", size=12)\n",
        "plt.grid()\n",
        "\n",
        "plt.show()"
      ],
      "execution_count": null,
      "outputs": []
    },
    {
      "cell_type": "markdown",
      "metadata": {
        "id": "FP6RhWHadBqD"
      },
      "source": [
        "試行数が増えるとともに、(4が出た回数/試行数)は確率である約16.7%に収束していくことが確認できます。  "
      ]
    },
    {
      "cell_type": "markdown",
      "metadata": {
        "id": "RVyvBbh5iume"
      },
      "source": [
        "## @ 演習"
      ]
    },
    {
      "cell_type": "markdown",
      "metadata": {
        "id": "-VkOMyVppxwA"
      },
      "source": [
        "### 演習1\n",
        "9x9=81のマスからなる将棋盤を考えます。  \n",
        "ここに4枚の「歩」のコマを置く置き方は、何通り存在するかを計算します。  \n",
        "4枚のコマは区別できず、全て同じ方向を向いているものとします。  \n",
        "以下のコードに追記を行い、組み合わせの数を計算しましょう。  "
      ]
    },
    {
      "cell_type": "code",
      "metadata": {
        "id": "BkcBMAo7rJMy"
      },
      "source": [
        "import math\n",
        "\n",
        "m = 81  # マスの数\n",
        "n = 4  # コマの数\n",
        "m_C_n =   # ここにコードを追記\n",
        "print(\"組み合わせ: \", m_C_n)"
      ],
      "execution_count": null,
      "outputs": []
    },
    {
      "cell_type": "markdown",
      "metadata": {
        "id": "eTS1uefldBqE"
      },
      "source": [
        "### 演習2\n",
        "コイントスの例を考えます。    \n",
        "以下のコードに追記を行い、（表が上になる回数/コインを投げた総数）が確率$\\frac{1}{2}$に収束することを確認しましょう。"
      ]
    },
    {
      "cell_type": "code",
      "metadata": {
        "id": "iV1oqmuRdBqE"
      },
      "source": [
        "import numpy as np\n",
        "import matplotlib.pyplot as plt\n",
        "\n",
        "x = []\n",
        "y = []\n",
        "total = 0  # 試行数\n",
        "num_front = 0  # 表が上になった回数\n",
        "n = 10000  # コインを投げる回数\n",
        "\n",
        "for i in range(n):\n",
        "    # --------- 以下にコードを追記 ---------\n",
        "\n",
        "\n",
        "    # --------- ここまで ---------\n",
        "\n",
        "    total += 1\n",
        "    x.append(i)\n",
        "    y.append(num_front/total)\n",
        "\n",
        "plt.plot(x, y)\n",
        "plt.plot(x, [1/2]*n, linestyle=\"dashed\")\n",
        "\n",
        "plt.xlabel(\"X\", size=12)\n",
        "plt.ylabel(\"Y\", size=12)\n",
        "plt.grid()\n",
        "\n",
        "plt.show()"
      ],
      "execution_count": null,
      "outputs": []
    },
    {
      "cell_type": "markdown",
      "metadata": {
        "collapsed": true,
        "id": "oWYzjdm0dBqE"
      },
      "source": [
        "## @解答例"
      ]
    },
    {
      "cell_type": "markdown",
      "metadata": {
        "id": "khi8EDhhs3Ov"
      },
      "source": [
        "### 演習1"
      ]
    },
    {
      "cell_type": "code",
      "metadata": {
        "id": "cEJYH6PTs3bA"
      },
      "source": [
        "import math\n",
        "\n",
        "m = 81  # マスの数\n",
        "n = 4  # コマの数\n",
        "m_C_n = math.factorial(m) // (math.factorial(m-n)*math.factorial(n))  # ここにコードを追記\n",
        "print(\"組み合わせ: \", m_C_n)"
      ],
      "execution_count": null,
      "outputs": []
    },
    {
      "cell_type": "markdown",
      "metadata": {
        "id": "9lDlB5aRjO11"
      },
      "source": [
        "### 演習2"
      ]
    },
    {
      "cell_type": "code",
      "metadata": {
        "id": "zEVOpVgfdBqF"
      },
      "source": [
        "import numpy as np\n",
        "import matplotlib.pyplot as plt\n",
        "\n",
        "x = []\n",
        "y = []\n",
        "total = 0  # 試行数\n",
        "num_front = 0  # 表が上になった回数\n",
        "n = 10000  # コインを投げる回数\n",
        "\n",
        "for i in range(n):\n",
        "    # --------- 以下にコードを追記 ---------\n",
        "    if np.random.randint(2) == 0:\n",
        "        num_front += 1\n",
        "    # --------- ここまで ---------\n",
        "\n",
        "    total += 1\n",
        "    x.append(i)\n",
        "    y.append(num_front/total)\n",
        "\n",
        "plt.plot(x, y)\n",
        "plt.plot(x, [1/2]*n, linestyle=\"dashed\")\n",
        "\n",
        "plt.xlabel(\"X\", size=12)\n",
        "plt.ylabel(\"Y\", size=12)\n",
        "plt.grid()\n",
        "\n",
        "plt.show()"
      ],
      "execution_count": null,
      "outputs": []
    }
  ]
}