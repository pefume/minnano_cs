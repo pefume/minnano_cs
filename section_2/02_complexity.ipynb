{
  "nbformat": 4,
  "nbformat_minor": 0,
  "metadata": {
    "colab": {
      "name": "02_complexity.ipynb",
      "provenance": [],
      "collapsed_sections": [],
      "authorship_tag": "ABX9TyNwas7WzTWsCBq6m8E57HUE",
      "include_colab_link": true
    },
    "kernelspec": {
      "name": "python3",
      "display_name": "Python 3"
    }
  },
  "cells": [
    {
      "cell_type": "markdown",
      "metadata": {
        "id": "view-in-github",
        "colab_type": "text"
      },
      "source": [
        "<a href=\"https://colab.research.google.com/github/yukinaga/minnano_cs/blob/main/section_2/02_complexity.ipynb\" target=\"_parent\"><img src=\"https://colab.research.google.com/assets/colab-badge.svg\" alt=\"Open In Colab\"/></a>"
      ]
    },
    {
      "cell_type": "markdown",
      "metadata": {
        "id": "8XicBUcnRYJ-"
      },
      "source": [
        "# 計算量\n",
        "演算の数を減らすことができれば、必要な計算の量は少なくて済みます。  \n",
        "問題を解決するのに必要な計算量は少ない方が望ましいのですが、計算量の削減のためにはアルゴリズムにおける演算の数を測定する必要があります。  \n",
        "計算量には、計算時間に関係する**時間計算量**と、メモリに関係する**空間計算量**があります。"
      ]
    },
    {
      "cell_type": "markdown",
      "metadata": {
        "id": "ZJD1na7HA3AY"
      },
      "source": [
        "## ◎時間計算量\n",
        "**時間計算量**（time complexity）は、アルゴリズムが問題を解くにあたって実行しなければならない処理のステップ数のことです。  "
      ]
    },
    {
      "cell_type": "markdown",
      "metadata": {
        "id": "N4BzWf6kChSI"
      },
      "source": [
        "### $\\mathcal{O}$記法\n",
        "$\\mathcal{O}$（ビッグオー）記法は、計算にかかる時間の程度を表す記法です。  \n",
        "  \n",
        "処理すべきデータのサイズを$n$とします。  \n",
        "このとき、処理のステップ総数が$n$に比例する場合は計算量を$\\mathcal{O}(n)$と表記します。  \n",
        "処理のステップ総数が$n^2$に比例する場合は、計算量を$\\mathcal{O}(n^2)$と表記します。\n",
        "  \n",
        "以下は、$\\mathcal{O}$記法による計算量の表記の例です。  \n",
        "$\\mathcal{O}(1)$、$\\mathcal{O}(\\log{n})$、$\\mathcal{O}(n)$、$\\mathcal{O}(n\\log{n})$、$\\log{n^2}$、$\\log{2^n}$        \n",
        "\n",
        "Pythonを使って、$()$内の値の大きさを比較してみましょう。"
      ]
    },
    {
      "cell_type": "code",
      "metadata": {
        "id": "f-KSRxziLwoG"
      },
      "source": [
        "import math\n",
        "\n",
        "n_list = [1, 2, 4, 8, 16]  # nの値\n",
        "\n",
        "for n in n_list:\n",
        "    print(\"------ n = \" + str(n) + \" ------\")\n",
        "\n",
        "    print(\"O(1)\", 1)\n",
        "    print(\"O(log n)\", math.log(n))\n",
        "    print(\"O(n)\", n)\n",
        "    print(\"O(n log n)\", n*math.log(n))\n",
        "    print(\"O(n^2)\", n**2)\n",
        "    print(\"O(2^n)\", 2**n)"
      ],
      "execution_count": null,
      "outputs": []
    },
    {
      "cell_type": "markdown",
      "metadata": {
        "id": "RUIJELUWP8se"
      },
      "source": [
        "$\\mathcal{O}(1)$はデータのサイズ$n$が増えても計算量は常に一定です。  \n",
        "$\\mathcal{O}(n^2)$や$\\mathcal{O}(2^n)$は、$n$が増えると計算量が爆発的に増加します。  \n",
        "大きなデータサイズが想定される場合、計算量が$\\mathcal{O}(n^2)$や$\\mathcal{O}(2^n)$となるアルゴリズムは避けた方が賢明でしょう。  \n",
        "\n",
        "なお、データサイズとアルゴリズムが同じでも、計算に必要な演算数が異なる場合があります。  \n",
        "これを以下のように整理します。  \n",
        "\n",
        "* 最善: 最小の演算数で済む場合。\n",
        "* 最悪: 最大の演算数が必要な場合。\n",
        "* 平均: 多数のケースにおける演算数の平均。\n",
        "\n",
        "一般に、この中で最も重要なのは「最悪」のケースです。  \n",
        "演算数がもっとも多い最悪のケースを仮定して、信頼できる計算量を見積もることになります。\n"
      ]
    },
    {
      "cell_type": "markdown",
      "metadata": {
        "id": "nxuySg1DQ7fT"
      },
      "source": [
        "### プログラムの時間計算量\n",
        "以下のプログラムの時間計算量を求めます。  "
      ]
    },
    {
      "cell_type": "code",
      "metadata": {
        "id": "bjn7D8ivY-XI"
      },
      "source": [
        "n = 100\n",
        "sample = [0] * n  # 0がn個入ったリスト\n",
        "print(\"実行前: \", sample)\n",
        "\n",
        "#  ------ ここからの時間計算量 ------\n",
        "sample[0] += 1 # 1回実行\n",
        "\n",
        "for i in range(n):  # n回実行\n",
        "    sample[i] += 1\n",
        "\n",
        "for i in range(n):  # n回実行\n",
        "    sample[i] += 1\n",
        "\n",
        "for i in range(n):  # n回実行\n",
        "    sample[i] += 1\n",
        "\n",
        "for i in range(n):  # n^2回実行\n",
        "    for j in range(n):\n",
        "        sample[i] += 1\n",
        "\n",
        "for i in range(n):  # n^2回実行\n",
        "    for j in range(n):\n",
        "        sample[i] += 1\n",
        "#  ------ ここまで ------\n",
        "\n",
        "print(\"実行後: \", sample)"
      ],
      "execution_count": null,
      "outputs": []
    },
    {
      "cell_type": "markdown",
      "metadata": {
        "id": "u7eXFVH7bqT7"
      },
      "source": [
        "まずはステップの総数を求めます。  \n",
        "上記のコードの場合、総ステップ数は以下の通りに表すことができます。  \n",
        "\n",
        "$$2n^2 + 3n + 1$$\n",
        "\n",
        "次に、上記から不要なものを除きます。  \n",
        "まずは、最大次数の項（もっとも影響力のある項）以外の項を除去します。  \n",
        "\n",
        "$$2n^2$$\n",
        "\n",
        "最後に、係数を除去します。\n",
        "\n",
        "$$n^2$$\n",
        "\n",
        "これを使って、上記のプログラムの計算量を、\n",
        "\n",
        "$$\\mathcal{O}(n^2)$$\n",
        "\n",
        "と表記することができます。\n"
      ]
    },
    {
      "cell_type": "markdown",
      "metadata": {
        "id": "bXQ05gI5Zqp6"
      },
      "source": [
        "### 所要時間の測定\n",
        "実際に、$\\mathcal{O}(1)$、$\\mathcal{O}(n)$、$\\mathcal{O}(n^2)$のケースで計算に要する時間を測定してみましょう。  \n",
        "Pythonのtimeモジュールを使って、計算に要する時間を測定することができます。\n"
      ]
    },
    {
      "cell_type": "code",
      "metadata": {
        "id": "FztuejoJkrz_"
      },
      "source": [
        "import time\n",
        "\n",
        "n = 10000\n",
        "sample = [0] * n  # 0がn個入ったリスト\n",
        "\n",
        "start = time.time()\n",
        "sample[0] += 1 # 1回実行\n",
        "print(\"O(1)（秒）: \", time.time()-start)\n",
        "\n",
        "start = time.time()\n",
        "for i in range(n):  # n回実行\n",
        "    sample[i] += 1\n",
        "print(\"O(n)（秒）: \", time.time()-start)\n",
        "\n",
        "start = time.time()\n",
        "for i in range(n):  # n^2回実行\n",
        "    for j in range(n):\n",
        "        sample[i] += 1\n",
        "print(\"O(n^2)（秒）: \", time.time()-start)"
      ],
      "execution_count": null,
      "outputs": []
    },
    {
      "cell_type": "markdown",
      "metadata": {
        "id": "rdRqm7fzpNPO"
      },
      "source": [
        "アルゴリズムの種類によって時間計算量は異なります。  \n",
        "現実的な時間内に問題を解決するためには、時間計算量を考慮して適切なアルゴリズムを選択する必要があります。"
      ]
    },
    {
      "cell_type": "markdown",
      "metadata": {
        "id": "daVESDp5RCJv"
      },
      "source": [
        "## @空間計算量\n",
        "アルゴリズムを計算機上で実行するためには、進行中の計算の状態を保持するために記憶領域（=メモリ）が必要となります。  \n",
        "アルゴリズムの実行に必要な作業記憶領域の量は、**空間計算量**（space complexity）と呼ばれます。  \n",
        "\n",
        "以下の、最小値を求めるアルゴリズムの空間計算量を考えてみましょう。"
      ]
    },
    {
      "cell_type": "code",
      "metadata": {
        "id": "LdSvJW6ou6pH"
      },
      "source": [
        "num_list = [12, 2, 31, 13]  # この中の最小値を求める\n",
        "\n",
        "min = num_list[0]  # 最小値を格納する変数\n",
        "for num in num_list:\n",
        "    if num < min:\n",
        "        min = num\n",
        "\n",
        "print(min)"
      ],
      "execution_count": null,
      "outputs": []
    },
    {
      "cell_type": "markdown",
      "metadata": {
        "id": "wV-Lc5M6v0rS"
      },
      "source": [
        "この場合、作業に必要なメモリは最小値を格納する変数`min`のものだけです。  \n",
        "データの数が増えても空間計算量は常に一定なので、$\\mathcal{O}(1)$で表すことができます。  \n",
        "  \n",
        "\n",
        "アルゴリズムの種類によって空間計算量は異なりますが、空間計算量が少ないアルゴリズムでも時間計算量が少ないとは限りません。  \n",
        "計算機のスペックには常に制限があるので、時間計算量とのバランスを考慮して適切なアルゴリズムを選択する必要があります。"
      ]
    },
    {
      "cell_type": "markdown",
      "metadata": {
        "id": "RVyvBbh5iume"
      },
      "source": [
        "## @ 演習"
      ]
    },
    {
      "cell_type": "markdown",
      "metadata": {
        "id": "-VkOMyVppxwA"
      },
      "source": [
        "### 演習1\n",
        "以下のプログラムの「時間計算量」を、$\\mathcal{O}$記法で記述しましょう。"
      ]
    },
    {
      "cell_type": "code",
      "metadata": {
        "id": "BkcBMAo7rJMy"
      },
      "source": [
        "n = 10\n",
        "sample = [0] * n  # 0がn個入ったリスト\n",
        "print(\"実行前: \", sample)\n",
        "\n",
        "#  ------ ここからの時間計算量 ------\n",
        "sample[0] += 1 # 1回実行\n",
        "\n",
        "for i in range(n):  # n回実行\n",
        "    sample[i] += 1\n",
        "\n",
        "for i in range(n):  # n^2回実行\n",
        "    for j in range(n):\n",
        "        sample[i] += 1\n",
        "\n",
        "i = 0\n",
        "while i<2**n:  # 2^n回実行\n",
        "    sample[i%n] += 1\n",
        "    i += 1\n",
        "\n",
        "i = 0\n",
        "while i<2*2**n:  # 2×2^n回実行\n",
        "    sample[i%n] += 1\n",
        "    i += 1\n",
        "#  ------ ここまで ------\n",
        "\n",
        "print(\"実行後: \", sample)"
      ],
      "execution_count": null,
      "outputs": []
    },
    {
      "cell_type": "markdown",
      "metadata": {
        "id": "eTS1uefldBqE"
      },
      "source": [
        "### 演習2\n",
        "以下の画像を表示するプログラムの「空間計算量」を、$\\mathcal{O}$記法で記述しましょう。"
      ]
    },
    {
      "cell_type": "code",
      "metadata": {
        "id": "iV1oqmuRdBqE"
      },
      "source": [
        "import numpy as np\n",
        "import matplotlib.pyplot as plt\n",
        "\n",
        "n= 16\n",
        "\n",
        "image = np.zeros((n, n))\n",
        "\n",
        "for i in range(n):\n",
        "    for j in range(n):\n",
        "        image[i, j] = i+j\n",
        "\n",
        "plt.imshow(image, cmap=\"gray\")\n",
        "plt.colorbar()\n",
        "plt.show()"
      ],
      "execution_count": null,
      "outputs": []
    },
    {
      "cell_type": "markdown",
      "metadata": {
        "collapsed": true,
        "id": "oWYzjdm0dBqE"
      },
      "source": [
        "## @解答例"
      ]
    },
    {
      "cell_type": "markdown",
      "metadata": {
        "id": "khi8EDhhs3Ov"
      },
      "source": [
        "### 演習1\n",
        "総ステップ数を以下のように表すことができます。  \n",
        "\n",
        "$$3\\times 2^n +n^2 +  n + 1$$\n",
        "\n",
        "もっとも影響力のある項以外の項を除去し、係数を除去すると以下の形になります。  \n",
        "\n",
        "$$2^n$$\n",
        "\n",
        "従って、時間計算量は、\n",
        "\n",
        "$$\\mathcal{O}(2^n)$$\n",
        "\n",
        "と表記することができます。"
      ]
    },
    {
      "cell_type": "markdown",
      "metadata": {
        "id": "9lDlB5aRjO11"
      },
      "source": [
        "### 演習2\n",
        "画像のサイズが$n\\times n$なので、空間計算量は以下のように表記できます。\n",
        "\n",
        "$$\\mathcal{O}(n^2)$$"
      ]
    }
  ]
}