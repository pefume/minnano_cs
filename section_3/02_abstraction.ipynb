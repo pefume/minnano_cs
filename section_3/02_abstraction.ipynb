{
  "nbformat": 4,
  "nbformat_minor": 0,
  "metadata": {
    "colab": {
      "name": "02_abstraction.ipynb",
      "provenance": [],
      "collapsed_sections": [],
      "authorship_tag": "ABX9TyOjoSHZJ1bMSf927rSeoBjo",
      "include_colab_link": true
    },
    "kernelspec": {
      "name": "python3",
      "display_name": "Python 3"
    }
  },
  "cells": [
    {
      "cell_type": "markdown",
      "metadata": {
        "id": "view-in-github",
        "colab_type": "text"
      },
      "source": [
        "<a href=\"https://colab.research.google.com/github/yukinaga/minnano_cs/blob/main/section_3/02_abstraction.ipynb\" target=\"_parent\"><img src=\"https://colab.research.google.com/assets/colab-badge.svg\" alt=\"Open In Colab\"/></a>"
      ]
    },
    {
      "cell_type": "markdown",
      "metadata": {
        "id": "hxyDBv5X05ZR"
      },
      "source": [
        "# 抽象データ型\n",
        "**抽象データ型**（Abstract Data Type: ADT）は、「データ型」と「そのデータ型のデータに対する操作」からなります。  \n",
        "抽象データ型を利用すれば、与えられた手続きによりメモリ上のデータを簡単に操作することが可能になります。  \n",
        "この場合、メモリに対する直接的な操作は隠蔽されることになります。    "
      ]
    },
    {
      "cell_type": "markdown",
      "metadata": {
        "id": "QRPiQ8BYuknU"
      },
      "source": [
        "## ◎基本データ型\n",
        "基本データ型は、プログラミング言語よって用意された基本的なデータ型です。  \n",
        "整数型、浮動小数点型、文字列型、論理型などがあり、変数に値を格納することができます。  \n",
        "Pythonの主な基本データ型を以下に示します。  \n",
        "Pythonは、変数に対して型の明示は不要です。"
      ]
    },
    {
      "cell_type": "code",
      "metadata": {
        "id": "CaEQk3goz8jC"
      },
      "source": [
        "a = 123  # 整数型（int）\n",
        "b = 123.456  # 浮動小数点型（float）\n",
        "c = \"Hello World!\"  # 文字列型（str）\n",
        "d = True  # 論理型（bool）\n",
        "\n",
        "print(type(a), type(b), type(c), type(d))  # 型を表示"
      ],
      "execution_count": null,
      "outputs": []
    },
    {
      "cell_type": "markdown",
      "metadata": {
        "id": "u30HTih52a9d"
      },
      "source": [
        "## ◎キュー\n",
        "**キュー**（Queue）は、並んだデータの末尾に新たなデータを加え、先頭からデータを取り出します。  \n",
        "この構造は FIFO（First In First Out）と呼ばれます。  \n",
        "机に積み重ねられた書類の、一番下の書類を抜き出すイメージです。  \n",
        "キューは、以下の2つの操作を提供します。  \n",
        "* enqueue(a): キューの末尾に要素aを加える  \n",
        "* dequeue(): キューの先頭から要素を取り出し、その要素を削除する   \n",
        "  \n",
        "Pythonでは、`queue`モジュールの`queue.Queue()`によりキューを扱うことができます。"
      ]
    },
    {
      "cell_type": "code",
      "metadata": {
        "id": "SgCGKIrZ5wcs"
      },
      "source": [
        "import queue\n",
        "\n",
        "q = queue.Queue()  # 空のキューを作成\n",
        "\n",
        "names = [\"Taro\", \"Hanako\", \"Jiro\"]\n",
        "\n",
        "for name in names:\n",
        "    q.put(name)  # enqueue(a): キューの末尾にデータを格納\n",
        "\n",
        "while not q.empty():  # キューが空になるまで\n",
        "    print(q.get())  # dequeue: キューの先頭からデータを取り出す"
      ],
      "execution_count": null,
      "outputs": []
    },
    {
      "cell_type": "markdown",
      "metadata": {
        "id": "HmZjY0XS8ZiE"
      },
      "source": [
        "## ◎スタック\n",
        "**スタック**（Stack）は、並んだデータの末尾に新たなデータを加え、末尾からデータを取り出します。  \n",
        "この構造は LIFO（Last In First Out）と呼ばれます。  \n",
        "机に積み重ねられた書類の、一番上の書類を取るイメージです。  \n",
        "スタックは、以下の2つの操作を提供します。  \n",
        "\n",
        "* push(a): スタックの末尾に要素aを加える  \n",
        "* pop(): スタックの末尾から要素を取り出し、その要素を削除する   \n",
        "  \n",
        "Pythonでは、`queue`モジュールの`queue.LifoQueue() `によりスタックを扱うことができます。"
      ]
    },
    {
      "cell_type": "code",
      "metadata": {
        "id": "yTAJz-jF_rBd"
      },
      "source": [
        "import queue\n",
        "\n",
        "s = queue.LifoQueue()  # 空のスタックを作成\n",
        "\n",
        "names = [\"Taro\", \"Hanako\", \"Jiro\"]\n",
        "\n",
        "for name in names:\n",
        "    s.put(name)  # push(a): スタックの末尾にデータを格納\n",
        "\n",
        "while not s.empty():  # スタックが空になるまで\n",
        "    print(s.get())  # pop(): スタックの末尾からデータを取り出す"
      ],
      "execution_count": null,
      "outputs": []
    },
    {
      "cell_type": "markdown",
      "metadata": {
        "id": "eFXZT9huBJL_"
      },
      "source": [
        "## ◎優先度付きキュー\n",
        "**優先度付きキュー**（Priority Queue）の各要素は、優先度を持ちます。   \n",
        "\n",
        "優先度付きキューは、以下の2つの操作を提供します。  \n",
        "* enqueue(s, a): 優先度付きキューに、優先度sとともに要素aを加える  \n",
        "* dequeue(): 優先度付きキューから最も優先度の高い要素を取り出し、その要素を削除する   \n",
        "  \n",
        "Pythonでは、`queue`モジュールの`queue.PriorityQueue()`によりキューを扱うことができます。"
      ]
    },
    {
      "cell_type": "code",
      "metadata": {
        "id": "S3CQtnWqFmUA"
      },
      "source": [
        "import queue\n",
        "\n",
        "p = queue.PriorityQueue()  # 空の優先度付きキューを作成\n",
        "\n",
        "names = [(201, \"Taro\"), (301, \"Hanako\"), (101, \"Jiro\")]  # 優先度と要素の組み合わせ\n",
        "\n",
        "for name in names:\n",
        "    p.put(name)  # enqueue(s, a): 優先度付きキューにデータを格納\n",
        "\n",
        "while not p.empty():  # 優先度付きキューが空になるまで\n",
        "    print(p.get())  # dequeue: 優先度付きキューから最も優先度の高いデータを取り出す"
      ],
      "execution_count": null,
      "outputs": []
    },
    {
      "cell_type": "markdown",
      "metadata": {
        "id": "omsiqNHxIpqn"
      },
      "source": [
        "オペレーティングシステム（OS）は、優先度付きキューを使って実行待ちのプロセスを管理します。  \n",
        "この優先度付きキューの各実行待ちプロセスには、優先度の順に一定時間実行されることになります。"
      ]
    },
    {
      "cell_type": "markdown",
      "metadata": {
        "id": "9ckwflsPK2m2"
      },
      "source": [
        "## ◎リスト\n",
        "**リスト**（List）は、柔軟性が高く実用的な抽象データ型です。  \n",
        "以下は、リストで一般的に実装される操作の例です。\n",
        "\n",
        "* 任意の位置の要素の取得\n",
        "* 任意の位置への要素の挿入\n",
        "* 任意の位置の要素の削除\n",
        "* ソート\n",
        "* etc...\n",
        "\n",
        "Pythonでは、リストは全体を[ ]で囲み、各要素は,で区切ります。  "
      ]
    },
    {
      "cell_type": "code",
      "metadata": {
        "id": "crcAxRWdMAkf"
      },
      "source": [
        "names = [\"Taro\", \"Hanako\", \"Jiro\", \"Yoko\", \"Saburo\"]    # リストの作成\n",
        "\n",
        "print(\"取得: \", names[1])  # インデックスが1の要素を取得\n",
        "\n",
        "names.insert(2, \"Reiko\")  # インデックス2の位置に要素を挿入\n",
        "print(\"挿入: \", names)\n",
        "\n",
        "names.pop(2)  # インデックス2の要素を削除\n",
        "print(\"削除: \", names)\n",
        "\n",
        "names.sort()  # ソート（昇順）\n",
        "print(\"ソート（昇順）: \", names)\n",
        "\n",
        "names.sort(reverse=True)  # ソート（降順）\n",
        "print(\"ソート（降順）: \", names)"
      ],
      "execution_count": null,
      "outputs": []
    },
    {
      "cell_type": "markdown",
      "metadata": {
        "id": "vEDOBxT6WtWC"
      },
      "source": [
        "## ◎辞書\n",
        "**辞書**（Dictionary）は、キー（Key）と値（Value）の組合せでデータを格納します。　  \n",
        "辞書は、別名マップ（Map）とも呼ばれます。  \n",
        "以下は、辞書で一般的に実装される操作の例です。  \n",
        "\n",
        "* キーに対応する値を取得する \n",
        "* キーと値の組み合わせを追加する\n",
        "* キーに対応する値を削除する\n",
        "* etc...\n",
        "    \n",
        "Pythonでは、辞書は全体を{ }で囲み、各要素は,で、キーと値は:で区切ります。  "
      ]
    },
    {
      "cell_type": "code",
      "metadata": {
        "id": "4d1UB_ESYDqv"
      },
      "source": [
        "ages = {\"Taro\":23, \"Hanako\":22, \"Jiro\":19}  # 名前がキーで、年齢が値\n",
        "\n",
        "print(\"取得: \", ages[\"Hanako\"])   # キー\"Hanako\"で値を取得\n",
        "\n",
        "ages[\"Yoko\"] = 18  # キーと値のペアを追加\n",
        "print(\"追加: \", ages)\n",
        "\n",
        "ages.pop(\"Yoko\")  # キーを指定して削除\n",
        "print(\"削除: \", ages)"
      ],
      "execution_count": null,
      "outputs": []
    },
    {
      "cell_type": "markdown",
      "metadata": {
        "id": "gn9Hy201a1lM"
      },
      "source": [
        "辞書は、リストと異なり順序の情報は持ちません。"
      ]
    },
    {
      "cell_type": "markdown",
      "metadata": {
        "id": "R-jIoPRjaAUB"
      },
      "source": [
        "## ◎集合\n",
        "**集合**（Set）は、重複のない要素の集合です。  \n",
        "リストと異なり、順序の情報は持ちません。  \n",
        "以下は、集合で一般的に実装される操作の例です。  \n",
        "\n",
        "* 要素を追加する \n",
        "* 要素を削除する\n",
        "* リストに変換する\n",
        "* etc...\n",
        "  \n",
        "Pythonでは、集合は全体を{ }で囲み、各要素は,で区切ります。  "
      ]
    },
    {
      "cell_type": "code",
      "metadata": {
        "id": "5OesaGUae3l5"
      },
      "source": [
        "names = {\"Taro\", \"Hanako\", \"Jiro\"}  # セット\n",
        "\n",
        "names.add(\"Taro\")  # 重複する要素を追加\n",
        "print(\"追加（重複）: \", names)\n",
        "\n",
        "names.add(\"Yoko\")  # 重複しない要素を追加\n",
        "print(\"追加（重複しない）: \", names)\n",
        "\n",
        "names.remove(\"Yoko\")  # 要素の削除\n",
        "print(\"削除: \", names)\n",
        "\n",
        "print(\"リストへ変換: \", list(names))  # リストへの変換"
      ],
      "execution_count": null,
      "outputs": []
    },
    {
      "cell_type": "markdown",
      "metadata": {
        "id": "RVyvBbh5iume"
      },
      "source": [
        "## @ 演習"
      ]
    },
    {
      "cell_type": "markdown",
      "metadata": {
        "id": "-VkOMyVppxwA"
      },
      "source": [
        "ユーザーが入力した名前のデータを、キュー、もしくはスタックで扱うコードを記述しましょう。  \n",
        "以下のセルにキュー、もしくはスタックを作成するコードを追記し、入力データがキュー、もしくはスタック上で適切に扱われていることを確認してください。  "
      ]
    },
    {
      "cell_type": "code",
      "metadata": {
        "id": "BkcBMAo7rJMy"
      },
      "source": [
        "import queue\n",
        "\n",
        "q =   # コードを追記、空のキューもしくはスタックを作成\n",
        "\n",
        "names = [\"Taro\", \"Hanako\", \"Jiro\"]\n",
        "\n",
        "for name in names:\n",
        "    q.put(name)\n",
        "\n",
        "while name!=\"exit\":  # 入力が「おしまい」であれば終了\n",
        "    print(\"名前を入力してください。\")\n",
        "    name = input()  # ユーザーの入力を取得\n",
        "    q.put(name)\n",
        "    print(q.get())\n",
        "    print()  # 一行空ける"
      ],
      "execution_count": null,
      "outputs": []
    },
    {
      "cell_type": "markdown",
      "metadata": {
        "collapsed": true,
        "id": "oWYzjdm0dBqE"
      },
      "source": [
        "## @解答例"
      ]
    },
    {
      "cell_type": "code",
      "metadata": {
        "id": "cEJYH6PTs3bA"
      },
      "source": [
        "import queue\n",
        "\n",
        "q = queue.Queue()  # 空のキュー、もしくはスタックを作成\n",
        "\n",
        "names = [\"Taro\", \"Hanako\", \"Jiro\"]\n",
        "\n",
        "for name in names:\n",
        "    q.put(name)\n",
        "\n",
        "while name!=\"exit\":  # 入力が「おしまい」であれば終了\n",
        "    print(\"名前を入力してください。\")\n",
        "    name = input()  # ユーザーの入力を取得\n",
        "    q.put(name)\n",
        "    print(q.get())\n",
        "    print()  # 一行空ける\n",
        "    "
      ],
      "execution_count": null,
      "outputs": []
    }
  ]
}