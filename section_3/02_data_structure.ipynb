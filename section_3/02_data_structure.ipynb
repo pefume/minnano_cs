{
  "nbformat": 4,
  "nbformat_minor": 0,
  "metadata": {
    "colab": {
      "name": "02_data_structure.ipynb",
      "provenance": [],
      "collapsed_sections": [],
      "authorship_tag": "ABX9TyONY8NpWHsMtcvTd7EI7Mgw",
      "include_colab_link": true
    },
    "kernelspec": {
      "name": "python3",
      "display_name": "Python 3"
    }
  },
  "cells": [
    {
      "cell_type": "markdown",
      "metadata": {
        "id": "view-in-github",
        "colab_type": "text"
      },
      "source": [
        "<a href=\"https://colab.research.google.com/github/yukinaga/minnano_cs/blob/main/section_3/02_data_structure.ipynb\" target=\"_parent\"><img src=\"https://colab.research.google.com/assets/colab-badge.svg\" alt=\"Open In Colab\"/></a>"
      ]
    },
    {
      "cell_type": "markdown",
      "metadata": {
        "id": "hxyDBv5X05ZR"
      },
      "source": [
        "# データ構造\n",
        "**データ構造**（data structure）は、データの集まりをメモリ上で効果的に扱うための形式のことです。  \n",
        "抽象データ型は、内部ではデータ構造を使用して実装されています。  \n",
        "今回は、様々なデータ構造をPythonを使ってなるべくシンプルに実装します。  "
      ]
    },
    {
      "cell_type": "markdown",
      "metadata": {
        "id": "QRPiQ8BYuknU"
      },
      "source": [
        "## ◎配列\n",
        "**配列**（array）は、メモリ上に連続した領域を確保して、要素を順番に格納します。  \n",
        "Pythonでは、arrayモジュールを使って配列を扱うことができます。  \n",
        "\n",
        "詳細: https://docs.python.org/ja/3/library/array.html"
      ]
    },
    {
      "cell_type": "code",
      "metadata": {
        "id": "CaEQk3goz8jC"
      },
      "source": [
        "from array import array\n",
        "\n",
        "a = array(\"i\", [101, 201, 301, 401, 501])  # リストから、整数を格納する配列を作成\n",
        "print(\"配列: \", a)\n",
        "\n",
        "print(\"要素のサイズ（バイト）: \", a.itemsize)\n",
        "print(\"メモリアドレス, 要素数: \", a.buffer_info())\n",
        "print(\"配列のサイズ: \", a.itemsize*a.buffer_info()[1])\n",
        "\n",
        "print(\"要素の取得: \", a[2])\n",
        "a[2] = 123\n",
        "print(\"要素の変更: \", a)"
      ],
      "execution_count": null,
      "outputs": []
    },
    {
      "cell_type": "markdown",
      "metadata": {
        "id": "u30HTih52a9d"
      },
      "source": [
        "## ◎連結リスト\n",
        "**連結リスト**（linked list）は、小さなメモリ領域を連鎖的につなげるデータ構造です。  \n",
        "各領域は、連鎖における次の領域を示すアドレスが格納されます。  \n",
        "以下は、Pythonのリストを使って実装したシンプルな連結リストです。  "
      ]
    },
    {
      "cell_type": "code",
      "metadata": {
        "id": "SgCGKIrZ5wcs"
      },
      "source": [
        "# 各ノード\n",
        "taro = [\"Taro\", None]\n",
        "hanako = [\"Hanako\", None]\n",
        "jiro = [\"Jiro\", None]\n",
        "yoko = [\"Yoko\", None]\n",
        "saburo = [\"Saburo\", None]\n",
        "\n",
        "# 連結\n",
        "taro[1] = hanako\n",
        "hanako[1] = jiro\n",
        "jiro[1] = yoko\n",
        "yoko[1] = saburo\n",
        "\n",
        "# 各値の表示\n",
        "node = taro\n",
        "while True:\n",
        "    print(node[0])  # 名前の表示\n",
        "    if node[1]==None: break\n",
        "    node = node[1]  # 次のノードへ"
      ],
      "execution_count": null,
      "outputs": []
    },
    {
      "cell_type": "markdown",
      "metadata": {
        "id": "zX_XEe4FaseK"
      },
      "source": [
        "連結リストは要素の削除や挿入が容易なので、キュー、スタック、リストなどの実装に利用されます。"
      ]
    },
    {
      "cell_type": "markdown",
      "metadata": {
        "id": "HmZjY0XS8ZiE"
      },
      "source": [
        "## ◎双方向連結リスト\n",
        "**双方向連結リスト**（double linked list）は、連結リストを双方向にしたものです。  \n",
        "各領域は、連鎖における前後の領域を示すアドレスが格納されます。  \n",
        "以下は、Pythonのリストを使って実装したシンプルな双方向連結リストです。  "
      ]
    },
    {
      "cell_type": "code",
      "metadata": {
        "id": "yTAJz-jF_rBd"
      },
      "source": [
        "# 各ノード\n",
        "taro = [\"Taro\", None, None]\n",
        "hanako = [\"Hanako\", None, None]\n",
        "jiro = [\"Jiro\", None, None]\n",
        "yoko = [\"Yoko\", None, None]\n",
        "saburo = [\"Saburo\", None, None]\n",
        "\n",
        "# 連結\n",
        "taro[2] = hanako\n",
        "hanako[1] = taro\n",
        "hanako[2] = jiro\n",
        "jiro[1] = hanako\n",
        "jiro[2] = yoko\n",
        "yoko[1] = jiro\n",
        "yoko[2] = saburo\n",
        "saburo[1] = yoko\n",
        "\n",
        "# 各値の表示（順方向）\n",
        "node = taro\n",
        "while True:\n",
        "    print(node[0])  # 名前の表示\n",
        "    if node[2]==None: break\n",
        "    node = node[2]  # 次のノードへ\n",
        "\n",
        "print()\n",
        "\n",
        "# 各値の表示（逆方向）\n",
        "node = saburo\n",
        "while True:\n",
        "    print(node[0])  # 名前の表示\n",
        "    if node[1]==None: break\n",
        "    node = node[1]  # 前のノードへ"
      ],
      "execution_count": null,
      "outputs": []
    },
    {
      "cell_type": "markdown",
      "metadata": {
        "id": "eFXZT9huBJL_"
      },
      "source": [
        "## ◎木構造\n",
        "**木構造**（tree structure）は、木の枝のように連結されたデータ構造です。    \n",
        "各領域が複数の領域に接続されることで、全体として木の枝のようなグラフとなります。    \n",
        "以下は、Pythonのリストを使って実装したシンプルな木構造です。  "
      ]
    },
    {
      "cell_type": "code",
      "metadata": {
        "id": "S3CQtnWqFmUA"
      },
      "source": [
        "# 親ノード\n",
        "taro = [\"Taro\", []]\n",
        "\n",
        "# 子ノード\n",
        "hanako = [\"Hanako\", []]\n",
        "jiro = [\"Jiro\", []]\n",
        "\n",
        "# 孫ノード\n",
        "yoko = [\"Yoko\", []]\n",
        "saburo = [\"Saburo\", []]\n",
        "\n",
        "# 連結\n",
        "taro[1].append(hanako)\n",
        "taro[1].append(jiro)\n",
        "hanako[1].append(yoko)\n",
        "hanako[1].append(saburo)\n",
        "\n",
        "# 各値の表示（再帰を使用）\n",
        "def process_node(node):\n",
        "    print(node[0])  # 名前の表示\n",
        "    for n in node[1]:\n",
        "        process_node(n)  # 再帰\n",
        "\n",
        "process_node(taro)"
      ],
      "execution_count": null,
      "outputs": []
    },
    {
      "cell_type": "markdown",
      "metadata": {
        "id": "RVyvBbh5iume"
      },
      "source": [
        "## @ 演習"
      ]
    },
    {
      "cell_type": "markdown",
      "metadata": {
        "id": "-VkOMyVppxwA"
      },
      "source": [
        "ユーザーが入力した名前のデータを、双方向連結リストに追加するコードを記述しましょう。  \n",
        "以下のセルのコードに追記を行ってください。  "
      ]
    },
    {
      "cell_type": "code",
      "metadata": {
        "id": "BkcBMAo7rJMy"
      },
      "source": [
        "nodes = []\n",
        "\n",
        "while True:\n",
        "    print(\"名前を入力してください。\")\n",
        "    name = input()  # ユーザーの入力を取得\n",
        "    if name==\"exit\": break  # 入力が「exit」であれば終了\n",
        "\n",
        "    node = [name, None, None]\n",
        "    if len(nodes)>0:\n",
        "        prev_node = nodes[-1]\n",
        "        prev_node[2] =   # コードを追記\n",
        "        node[1] =   # コードを追記\n",
        "    nodes.append(node)\n",
        "\n",
        "    print()\n",
        "\n",
        "    # 名前の表示（順方向）\n",
        "    print(\"順方向\")\n",
        "    node = nodes[0]\n",
        "    while True:\n",
        "        print(node[0])  # 名前の表示\n",
        "        if node[2]==None: break\n",
        "        node = node[2]  # 次のノードへ\n",
        "\n",
        "    print()\n",
        "\n",
        "    # 名前の表示（逆方向）\n",
        "    print(\"逆方向\")\n",
        "    node = nodes[-1]\n",
        "    while True:\n",
        "        print(node[0])  # 名前の表示\n",
        "        if node[1]==None: break\n",
        "        node = node[1]  # 前のノードへ\n",
        "\n",
        "    print(\"--------------------------------\")"
      ],
      "execution_count": null,
      "outputs": []
    },
    {
      "cell_type": "markdown",
      "metadata": {
        "collapsed": true,
        "id": "oWYzjdm0dBqE"
      },
      "source": [
        "## @解答例"
      ]
    },
    {
      "cell_type": "code",
      "metadata": {
        "id": "cEJYH6PTs3bA"
      },
      "source": [
        "nodes = []\n",
        "\n",
        "while True:\n",
        "    print(\"名前を入力してください。\")\n",
        "    name = input()  # ユーザーの入力を取得\n",
        "    if name==\"exit\": break  # 入力が「exit」であれば終了\n",
        "\n",
        "    node = [name, None, None]\n",
        "    if len(nodes)>0:\n",
        "        prev_node = nodes[-1]\n",
        "        prev_node[2] = node\n",
        "        node[1] = prev_node\n",
        "    nodes.append(node)\n",
        "\n",
        "    print()\n",
        "\n",
        "    # 名前の表示（順方向）\n",
        "    print(\"順方向\")\n",
        "    node = nodes[0]\n",
        "    while True:\n",
        "        print(node[0])  # 名前の表示\n",
        "        if node[2]==None: break\n",
        "        node = node[2]  # 次のノードへ\n",
        "\n",
        "    print()\n",
        "\n",
        "    # 名前の表示（逆方向）\n",
        "    print(\"逆方向\")\n",
        "    node = nodes[-1]\n",
        "    while True:\n",
        "        print(node[0])  # 名前の表示\n",
        "        if node[1]==None: break\n",
        "        node = node[1]  # 前のノードへ\n",
        "\n",
        "    print(\"--------------------------------\")"
      ],
      "execution_count": null,
      "outputs": []
    }
  ]
}