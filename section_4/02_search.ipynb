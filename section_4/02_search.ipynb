{
  "nbformat": 4,
  "nbformat_minor": 0,
  "metadata": {
    "colab": {
      "name": "02_search.ipynb",
      "provenance": [],
      "collapsed_sections": [],
      "authorship_tag": "ABX9TyPJhbcLU0U9PP0F+59XEHtC",
      "include_colab_link": true
    },
    "kernelspec": {
      "name": "python3",
      "display_name": "Python 3"
    }
  },
  "cells": [
    {
      "cell_type": "markdown",
      "metadata": {
        "id": "view-in-github",
        "colab_type": "text"
      },
      "source": [
        "<a href=\"https://colab.research.google.com/github/yukinaga/minnano_cs/blob/main/section_4/02_search.ipynb\" target=\"_parent\"><img src=\"https://colab.research.google.com/assets/colab-badge.svg\" alt=\"Open In Colab\"/></a>"
      ]
    },
    {
      "cell_type": "markdown",
      "metadata": {
        "id": "hxyDBv5X05ZR"
      },
      "source": [
        "# 探索\n",
        "**探索**（search）は、メモリから特定の情報を探し出すことで、コンピュータの処理の中でも重要な操作になります。  \n",
        "今回は、以下の2つの有名な探索のアルゴリズムを解説します。  \n",
        "* 線形探索\n",
        "* 二分探索"
      ]
    },
    {
      "cell_type": "markdown",
      "metadata": {
        "id": "QRPiQ8BYuknU"
      },
      "source": [
        "## ◎線形探索\n",
        "**線形探索**（linear search）は、データの先頭から終端に向かって目的の要素を探し出すアルゴリズムです。  \n",
        "先頭から順番に比較を行い、対象が見つかれば終了となります。  \n",
        "線形探索は、以下の手順で表すことができます。  \n",
        "1. データの先頭から要素を取り出す\n",
        "2. 取り出した要素の値と、探索したい値を比較する\n",
        "3. 一致していれば探索完了、一致していなければ次の要素を取り出し2へ戻る \n",
        "  \n",
        "時間計算量は $\\mathcal{O}(n)$、空間計算量は $\\mathcal{O}(1)$となります。  \n",
        "以下は、Pythonによる線形探索の実装です。"
      ]
    },
    {
      "cell_type": "code",
      "metadata": {
        "id": "CaEQk3goz8jC"
      },
      "source": [
        "def linear_search(data, target):\n",
        "    for i in range(0, len(data)):\n",
        "        if data[i] == target:  # 一致している場合\n",
        "            return i  # インデックスを返す\n",
        "    return None  # 1回も一致しなかった場合Noneを返す\n",
        "\n",
        "data = [3, 5, 8, 2, 7, 1, 4, 9, 6]  # 探索対象のデータ\n",
        "target = 4  # 探索したい値\n",
        "print(\"一致した要素のインデックス: \", linear_search(data, target))"
      ],
      "execution_count": null,
      "outputs": []
    },
    {
      "cell_type": "markdown",
      "metadata": {
        "id": "u30HTih52a9d"
      },
      "source": [
        "## ◎二分探索\n",
        "**二分探索**（binary search）は、探索の間隔を半分に分割しながら目的の要素を探し出すアルゴリズムです。  \n",
        "データが多いほど線型探索よりも性能がよくなりますが、探索の対象となるデータはソート済みである必要があります。    \n",
        "二分探索は、以下の手順で表すことができます。  \n",
        "1. データの中央に位置する要素を決める\n",
        "2. 中央の要素が目的の要素でない場合、値を比較し探索範囲を中央値の前、もしくは後に絞る  \n",
        "中央の要素が目的の要素と一致する場合、探索完了\n",
        "3. 2.に戻る\n",
        "  \n",
        "時間計算量は $\\mathcal{O}(\\log{n})$、空間計算量は $\\mathcal{O}(1)$となります。  "
      ]
    },
    {
      "cell_type": "code",
      "metadata": {
        "id": "SgCGKIrZ5wcs"
      },
      "source": [
        "def binary_search(data, target):\n",
        "    min = 0  # 探索範囲の最小インデックス\n",
        "    max = len(data)-1  # 探索範囲の最大インデックス\n",
        "\n",
        "    while min <= max:\n",
        "        center = (min+max) // 2  # 探索範囲の中央インデックス\n",
        "        if data[center] == target:\n",
        "            return center\n",
        "        elif target > data[center]:\n",
        "            min = center + 1\n",
        "        else:\n",
        "            max = center - 1\n",
        "    return None\n",
        "\n",
        "data = [1, 2, 3, 4, 5, 6, 7, 8, 9]  # 探索対象のデータ\n",
        "target = 4  # 探索したい値\n",
        "print(\"一致した要素のインデックス: \", binary_search(data, target))"
      ],
      "execution_count": null,
      "outputs": []
    },
    {
      "cell_type": "markdown",
      "metadata": {
        "id": "RVyvBbh5iume"
      },
      "source": [
        "## @ 演習"
      ]
    },
    {
      "cell_type": "markdown",
      "metadata": {
        "id": "-VkOMyVppxwA"
      },
      "source": [
        "二分探索を使ってメンバーの年齢を検索しましょう。  \n",
        "以下のセルにPythonのコードを追記し、年齢を検索するための二分探索を実装してください。"
      ]
    },
    {
      "cell_type": "code",
      "metadata": {
        "id": "BkcBMAo7rJMy"
      },
      "source": [
        "def binary_name_search(ages, target):\n",
        "    min = 0  # 探索範囲の最小インデックス\n",
        "    max = len(ages)-1  # 探索範囲の最大インデックス\n",
        "\n",
        "    while min <= max:\n",
        "        center = (min+max) // 2  # 探索範囲の中央インデックス\n",
        "        if ages[center][0] == target:\n",
        "            return ages[center][1]\n",
        "        elif   # ←コードを追記\n",
        "              # ←コードを追記\n",
        "        else:\n",
        "              # ←コードを追記\n",
        "    return None\n",
        "\n",
        "ages = [(\"Ai\", 25), (\"Eiko\", 12), (\"Jiro\", 19), (\"Reiko\", 22), (\"Saburo\", 18), (\"Shiro\", 15), (\"Taro\", 21), (\"Yoko\", 20)]  # 探索対象のデータ\n",
        "target = \"Shiro\"  # 探索したい名前\n",
        "print(target + \"は\" +  str(binary_name_search(ages, target)) + \"歳です。\")"
      ],
      "execution_count": null,
      "outputs": []
    },
    {
      "cell_type": "markdown",
      "metadata": {
        "collapsed": true,
        "id": "oWYzjdm0dBqE"
      },
      "source": [
        "## @解答例"
      ]
    },
    {
      "cell_type": "code",
      "metadata": {
        "id": "cEJYH6PTs3bA"
      },
      "source": [
        "def binary_name_search(ages, target):\n",
        "    min = 0  # 探索範囲の最小インデックス\n",
        "    max = len(ages)-1  # 探索範囲の最大インデックス\n",
        "\n",
        "    while min <= max:\n",
        "        center = (min+max) // 2  # 探索範囲の中央インデックス\n",
        "        if ages[center][0] == target:\n",
        "            return ages[center][1]\n",
        "        elif target > ages[center][0]:\n",
        "            min = center + 1\n",
        "        else:\n",
        "            max = center - 1\n",
        "    return None\n",
        "\n",
        "ages = [(\"Ai\", 25), (\"Eiko\", 12), (\"Jiro\", 19), (\"Reiko\", 22), (\"Saburo\", 18), (\"Shiro\", 15), (\"Taro\", 21), (\"Yoko\", 20)]  # 探索対象のデータ\n",
        "target = \"Shiro\"  # 探索したい名前\n",
        "print(target + \"は\" +  str(binary_name_search(ages, target)) + \"歳です。\")"
      ],
      "execution_count": null,
      "outputs": []
    }
  ]
}