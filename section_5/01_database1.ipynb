{
  "nbformat": 4,
  "nbformat_minor": 0,
  "metadata": {
    "colab": {
      "name": "01_database1.ipynb",
      "provenance": [],
      "collapsed_sections": [],
      "authorship_tag": "ABX9TyMmH8pmLWwIUHgwELuWCXO8",
      "include_colab_link": true
    },
    "kernelspec": {
      "name": "python3",
      "display_name": "Python 3"
    }
  },
  "cells": [
    {
      "cell_type": "markdown",
      "metadata": {
        "id": "view-in-github",
        "colab_type": "text"
      },
      "source": [
        "<a href=\"https://colab.research.google.com/github/yukinaga/minnano_cs/blob/main/section_5/01_database1.ipynb\" target=\"_parent\"><img src=\"https://colab.research.google.com/assets/colab-badge.svg\" alt=\"Open In Colab\"/></a>"
      ]
    },
    {
      "cell_type": "markdown",
      "metadata": {
        "id": "hxyDBv5X05ZR"
      },
      "source": [
        "# データベースの実装1\n",
        "今回は、リレーショナルモデルを使用する**リレーショナルデータベース**（relational database, RDB）を実装します。  \n",
        "リレーショナルデータベースでは、行と列によって構成された「テーブル」を、互いに関連付けて関係モデルを構築します。  \n",
        "利用者は、クエリ（問いかけ）をデータベースに与えて、データの検索、変更することができます。\n",
        "リレーショナルデータベースを使えば、データの重複や不整合を容易に回避することができます。  \n",
        "現在最も広く使われているデータベースシステムの1つです。"
      ]
    },
    {
      "cell_type": "markdown",
      "metadata": {
        "id": "QRPiQ8BYuknU"
      },
      "source": [
        "## ◎テーブルの作成\n",
        "リレーショナルデータベースでは、**テーブル**（表）にデータをまとめます。  \n",
        "テーブルは行（row）と列（column）で構成され、行には各要素が、列には各要素のに属する特性が格納されます。  \n",
        "そして、**SQL**（Structured Query Language）は、リレーショナルデータベースでデータを操作するための言語です。  \n",
        "SQLにより、テーブルの作成や情報の読み書きが可能になります。  \n",
        "    \n",
        "今回は、データベースの実装にSQLiteを使用します。  \n",
        "SQLiteは、パブリックドメインの軽量なリレーショナルデータベース管理システム (RDBMS) で、アプリケーションに組み込んで利用されます。  \n",
        "\n",
        "Pythonでは、sqlite3をインポートすることでSQLiteを手軽に使うことができます。"
      ]
    },
    {
      "cell_type": "code",
      "metadata": {
        "id": "CaEQk3goz8jC"
      },
      "source": [
        "import sqlite3\n",
        "\n",
        "connect = sqlite3.connect(\"sample1.db\")  # データベースを表すインスタンス\n",
        "cursor = connect.cursor()  # データベースの制御に使用\n",
        "\n",
        "cursor.execute(  # SQL文の実行\n",
        "    \"create table students(id integer PRIMARY KEY, name text, math_score integer)\"  # SQL文\n",
        "    )\n",
        "\n",
        "connect.commit()  # 変更を反映する\n",
        "connect.close()  # データベースを閉じる"
      ],
      "execution_count": null,
      "outputs": []
    },
    {
      "cell_type": "markdown",
      "metadata": {
        "id": "Omd19NXPiRZl"
      },
      "source": [
        "上記のSQL文、    \n",
        "```create table students(id integer PRIMARY KEY, name text, math_score integer)```  \n",
        "において、`id`と`name`は列の名前、`integer`と`text`はデータの型を表します。  \n",
        "以下はSQLで使用されるデータの型の例です。  \n",
        "\n",
        "|||\n",
        "| ---- | ---- |\n",
        "|  integer  |  符号付き整数  |\n",
        "|  real  |  小数  |\n",
        "|  text  |  文字列  |\n",
        "\n",
        "また、`PRIMARY KEY`は重複しない値が格納されることを表し、この列は要素の特定に使われることになります。  \n",
        "\n",
        "上記のコードによりテーブルは永続的に保存されるので、後から読み込んで使用することが可能になります。  \n",
        "\n",
        "なお、Pythonのライブラリsqlite3について、詳細は以下のサイトを参考にしてください。  \n",
        "https://docs.python.org/ja/3/library/sqlite3.html"
      ]
    },
    {
      "cell_type": "markdown",
      "metadata": {
        "id": "u30HTih52a9d"
      },
      "source": [
        "## ◎行の追加\n",
        "insert文を使ってテーブルに行を追加することができます。  \n",
        "insert文は以下のように記述することができます。  \n",
        "`insert into テーブル名(列名, ...) values(値, ....)`  \n",
        "  \n",
        "`PRIMARY KEY`の列は自動で番号が振られるので、列名と値を指定する必要はありません。  \n",
        "  \n",
        "\n",
        "以下のコードでは、insert文を使って複数の行をテーブルに追加しています。\n",
        "\n"
      ]
    },
    {
      "cell_type": "code",
      "metadata": {
        "id": "SgCGKIrZ5wcs"
      },
      "source": [
        "import sqlite3\n",
        "\n",
        "connect = sqlite3.connect(\"sample1.db\")  # データベースの読み込み\n",
        "cursor = connect.cursor()\n",
        "\n",
        "cursor.execute( \n",
        "    \"insert into students(name, math_score) values('Taro', 89)\"\n",
        "    )\n",
        "cursor.execute( \n",
        "    \"insert into students(name, math_score) values('Hanako', 92)\"\n",
        "    )\n",
        "cursor.execute( \n",
        "    \"insert into students(name, math_score) values('Jiro', 73)\"\n",
        "    )\n",
        "\n",
        "connect.commit()\n",
        "connect.close()"
      ],
      "execution_count": null,
      "outputs": []
    },
    {
      "cell_type": "markdown",
      "metadata": {
        "id": "sGiFU3GwYQFu"
      },
      "source": [
        "テーブルの中身は、select文を使って確認することができます。"
      ]
    },
    {
      "cell_type": "code",
      "metadata": {
        "id": "JQPr3pqXZfSo"
      },
      "source": [
        "import sqlite3\n",
        "\n",
        "connect = sqlite3.connect(\"sample1.db\")\n",
        "cursor = connect.cursor()\n",
        "\n",
        "for row in cursor.execute(\"select * from students\"):\n",
        "        print(row)\n",
        "\n",
        "connect.commit()\n",
        "connect.close()"
      ],
      "execution_count": null,
      "outputs": []
    },
    {
      "cell_type": "markdown",
      "metadata": {
        "id": "_rCJTU1DZfc3"
      },
      "source": [
        "`PRIMARY KEY`を指定した列は、自動で番号が振られていることが確認できます。  \n",
        "なお、select文の意味は次に解説します。"
      ]
    },
    {
      "cell_type": "markdown",
      "metadata": {
        "id": "KfKfwd3nz-3H"
      },
      "source": [
        "## ◎要素の取得\n",
        "select文を使ってテーブルの列を取得することができます。  \n",
        "select文は以下のように記述することができます。  \n",
        "`select 列名, ... from テーブル名`  \n",
        "  \n",
        "列名に`*`（アスタリスク）を指定すると、全ての列を取得することになります。 \n",
        "  \n",
        "以下のコードでは、select文を使ってテーブルから列を取り出しています。"
      ]
    },
    {
      "cell_type": "code",
      "metadata": {
        "id": "GmWOlu1ibHKx"
      },
      "source": [
        "import sqlite3\n",
        "\n",
        "connect = sqlite3.connect(\"sample1.db\")\n",
        "cursor = connect.cursor()\n",
        "\n",
        "for row in cursor.execute(\"select name, math_score from students\"):\n",
        "        print(row)\n",
        "\n",
        "connect.commit()\n",
        "connect.close()"
      ],
      "execution_count": null,
      "outputs": []
    },
    {
      "cell_type": "markdown",
      "metadata": {
        "id": "pEg3eLHYdZAv"
      },
      "source": [
        "指定した列のみが取り出されていることが確認できます。  \n",
        "  \n",
        "また、`where`を使うことで特定の条件を満たした要素のみを取り出すことができます。  "
      ]
    },
    {
      "cell_type": "code",
      "metadata": {
        "id": "4nbJ9izXjl3t"
      },
      "source": [
        "import sqlite3\n",
        "\n",
        "connect = sqlite3.connect(\"sample1.db\")\n",
        "cursor = connect.cursor()\n",
        "\n",
        "for row in cursor.execute(\"select name, math_score from students where math_score >= 80\"):\n",
        "    print(row)\n",
        "\n",
        "connect.commit()\n",
        "connect.close()"
      ],
      "execution_count": null,
      "outputs": []
    },
    {
      "cell_type": "markdown",
      "metadata": {
        "id": "93AsSx5dk9v1"
      },
      "source": [
        "## ◎要素の変更\n",
        "update文を使ってテーブルの要素をすることができます。  \n",
        "update文は以下のように記述することができます。  \n",
        "`update テーブル名 set 列名=値, ... where 条件`  \n",
        "    \n",
        "以下のコードでは、update文を使ってテーブルの要素を変更しています。"
      ]
    },
    {
      "cell_type": "code",
      "metadata": {
        "id": "gtNMRnXSmy6Z"
      },
      "source": [
        "import sqlite3\n",
        "\n",
        "connect = sqlite3.connect(\"sample1.db\")\n",
        "cursor = connect.cursor()\n",
        "\n",
        "cursor.execute(\"update students set math_score=98 where id = 1\")\n",
        "\n",
        "connect.commit()\n",
        "connect.close()"
      ],
      "execution_count": null,
      "outputs": []
    },
    {
      "cell_type": "markdown",
      "metadata": {
        "id": "1zs6YsIiqP8C"
      },
      "source": [
        "要素が変更されたことを確認します。"
      ]
    },
    {
      "cell_type": "code",
      "metadata": {
        "id": "zsZysyk4qJuu"
      },
      "source": [
        "import sqlite3\n",
        "\n",
        "connect = sqlite3.connect(\"sample1.db\")\n",
        "cursor = connect.cursor()\n",
        "\n",
        "for row in cursor.execute(\"select * from students\"):\n",
        "        print(row)\n",
        "\n",
        "connect.commit()\n",
        "connect.close()"
      ],
      "execution_count": null,
      "outputs": []
    },
    {
      "cell_type": "markdown",
      "metadata": {
        "id": "Mca-tEvHrjq0"
      },
      "source": [
        "## ◎行の削除\n",
        "delete文を使ってテーブルの行を削除することができます。  \n",
        "delete文は以下のように記述することができます。  \n",
        "`delete from テーブル名 where 条件`  \n",
        "    \n",
        "上記により、条件を満たす行が削除されます。  \n",
        "以下のコードでは、delete文を使ってテーブルの行を削除しています。"
      ]
    },
    {
      "cell_type": "code",
      "metadata": {
        "id": "21t-3_qSsOzu"
      },
      "source": [
        "import sqlite3\n",
        "\n",
        "connect = sqlite3.connect(\"sample1.db\")\n",
        "cursor = connect.cursor()\n",
        "\n",
        "cursor.execute(\"delete from students where id = 3\")\n",
        "\n",
        "connect.commit()\n",
        "connect.close()"
      ],
      "execution_count": null,
      "outputs": []
    },
    {
      "cell_type": "markdown",
      "metadata": {
        "id": "JjKeXX-dtRMv"
      },
      "source": [
        "行が削除されたことを確認します。"
      ]
    },
    {
      "cell_type": "code",
      "metadata": {
        "id": "3bkKII3-tRM7"
      },
      "source": [
        "import sqlite3\n",
        "\n",
        "connect = sqlite3.connect(\"sample1.db\")\n",
        "cursor = connect.cursor()\n",
        "\n",
        "for row in cursor.execute(\"select * from students\"):\n",
        "        print(row)\n",
        "\n",
        "connect.commit()\n",
        "connect.close()"
      ],
      "execution_count": null,
      "outputs": []
    },
    {
      "cell_type": "markdown",
      "metadata": {
        "id": "RVyvBbh5iume"
      },
      "source": [
        "## @ 演習"
      ]
    },
    {
      "cell_type": "markdown",
      "metadata": {
        "id": "-VkOMyVppxwA"
      },
      "source": [
        "以下の表を、テーブルとしてリレーショナルデータベースに保存しましょう。  \n",
        "  \n",
        "| id | name | age | location |\n",
        "| ---- | ---- | ---- | ---- |\n",
        "|  1  |  Taro  | 21 | Tokyo |\n",
        "|  2  |  Hanako  | 23 | Fukuoka |\n",
        "|  3  |  Jiro  | 19 | Osaka |\n",
        "|  4  |  Yoko  | 20 | Hokkaido |\n",
        "  \n",
        "`id`の列はPRIMARY KEYに設定してください。  \n",
        "以下のセルにPythonのコードを追記し、リレーショナルデータベースにデータを保存してください。  "
      ]
    },
    {
      "cell_type": "code",
      "metadata": {
        "id": "BkcBMAo7rJMy"
      },
      "source": [
        "import sqlite3\n",
        "\n",
        "connect = sqlite3.connect(\"team.db\")\n",
        "cursor = connect.cursor()\n",
        "\n",
        "cursor.execute(  # 以下のSQL文に追記を行ってください\n",
        "    \"create table team_members( \"\n",
        "    )\n",
        "\n",
        "cursor.execute(  # 以下のSQL文に追記を行ってください\n",
        "    \"insert into team_members( \"\n",
        "    )\n",
        "cursor.execute(  # 以下のSQL文に追記を行ってください\n",
        "    \"insert into team_members( \"\n",
        "    )\n",
        "cursor.execute(  # 以下のSQL文に追記を行ってください\n",
        "    \"insert into team_members( \"\n",
        "    )\n",
        "cursor.execute(  # 以下のSQL文に追記を行ってください\n",
        "    \"insert into team_members( \"\n",
        "    )\n",
        "\n",
        "connect.commit()\n",
        "connect.close()"
      ],
      "execution_count": null,
      "outputs": []
    },
    {
      "cell_type": "markdown",
      "metadata": {
        "id": "Cc-bgY1v1SSh"
      },
      "source": [
        "また、以下のコードに追記を行い、テーブルの内容を確認してください。"
      ]
    },
    {
      "cell_type": "code",
      "metadata": {
        "id": "scRyQ279xQUh"
      },
      "source": [
        "import sqlite3\n",
        "\n",
        "connect = sqlite3.connect(\"team.db\")\n",
        "cursor = connect.cursor()\n",
        "\n",
        "# 以下のSQL文に追記を行ってください\n",
        "for row in cursor.execute(\" \"):\n",
        "        print(row)\n",
        "\n",
        "connect.commit()\n",
        "connect.close()"
      ],
      "execution_count": null,
      "outputs": []
    },
    {
      "cell_type": "markdown",
      "metadata": {
        "collapsed": true,
        "id": "oWYzjdm0dBqE"
      },
      "source": [
        "## @解答例"
      ]
    },
    {
      "cell_type": "code",
      "metadata": {
        "id": "7WIyEJE-1BSu"
      },
      "source": [
        "import sqlite3\n",
        "\n",
        "connect = sqlite3.connect(\"team.db\")\n",
        "cursor = connect.cursor()\n",
        "\n",
        "cursor.execute(  # 以下のSQL文に追記を行ってください\n",
        "    \"create table team_members(id integer PRIMARY KEY, name text, age integer, location text)\"\n",
        "    )\n",
        "\n",
        "cursor.execute(   # 以下のSQL文に追記を行ってください\n",
        "    \"insert into team_members(name, age, location) values('Taro', 21, 'Tokyo')\"\n",
        "    )\n",
        "cursor.execute(   # 以下のSQL文に追記を行ってください\n",
        "    \"insert into team_members(name, age, location) values('Hanako', 23, 'Fukuoka')\"\n",
        "    )\n",
        "cursor.execute(   # 以下のSQL文に追記を行ってください\n",
        "    \"insert into team_members(name, age, location) values('Jiro', 19, 'Osaka')\"\n",
        "    )\n",
        "cursor.execute(   # 以下のSQL文に追記を行ってください\n",
        "    \"insert into team_members(name, age, location) values('Yoko', 20, 'Hokkaido')\"\n",
        "    )\n",
        "\n",
        "connect.commit()\n",
        "connect.close()"
      ],
      "execution_count": null,
      "outputs": []
    },
    {
      "cell_type": "code",
      "metadata": {
        "id": "F6tXiUL41BS7"
      },
      "source": [
        "import sqlite3\n",
        "\n",
        "connect = sqlite3.connect(\"team.db\")\n",
        "cursor = connect.cursor()\n",
        "\n",
        "# 以下のSQL文に追記を行ってください\n",
        "for row in cursor.execute(\"select * from team_members\"):\n",
        "        print(row)\n",
        "\n",
        "connect.commit()\n",
        "connect.close()"
      ],
      "execution_count": null,
      "outputs": []
    }
  ]
}