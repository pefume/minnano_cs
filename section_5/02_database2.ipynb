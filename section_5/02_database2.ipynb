{
  "nbformat": 4,
  "nbformat_minor": 0,
  "metadata": {
    "colab": {
      "name": "02_database2.ipynb",
      "provenance": [],
      "collapsed_sections": [],
      "authorship_tag": "ABX9TyMu4HlbemGPelPdoHU54u3h",
      "include_colab_link": true
    },
    "kernelspec": {
      "name": "python3",
      "display_name": "Python 3"
    }
  },
  "cells": [
    {
      "cell_type": "markdown",
      "metadata": {
        "id": "view-in-github",
        "colab_type": "text"
      },
      "source": [
        "<a href=\"https://colab.research.google.com/github/yukinaga/minnano_cs/blob/main/section_5/02_database2.ipynb\" target=\"_parent\"><img src=\"https://colab.research.google.com/assets/colab-badge.svg\" alt=\"Open In Colab\"/></a>"
      ]
    },
    {
      "cell_type": "markdown",
      "metadata": {
        "id": "hxyDBv5X05ZR"
      },
      "source": [
        "# データベースの実装2\n",
        "今回は、テーブル同士を連携させてデータを取得します。  \n",
        "リレーショナルデータベースで最も特徴的なのが、このようなリレーションです。  \n",
        "複数のテーブルを連携させて、データを効率的に扱うことができます。"
      ]
    },
    {
      "cell_type": "markdown",
      "metadata": {
        "id": "QRPiQ8BYuknU"
      },
      "source": [
        "## ◎テーブル間の連携\n",
        "顧客データを格納するテーブル（customers）、および発注データを格納するテーブル（orders）を作成します。  \n",
        "顧客データのテーブルでは、各顧客に`PRIMARY KEY`を使ってidを設定します。  \n",
        "発注データのテーブルでは、発注者を表すid（外部キー）と発注数量を各行に格納します。"
      ]
    },
    {
      "cell_type": "code",
      "metadata": {
        "id": "CaEQk3goz8jC"
      },
      "source": [
        "import sqlite3\n",
        "\n",
        "connect = sqlite3.connect(\"shop.db\")\n",
        "cursor = connect.cursor()\n",
        "\n",
        "# ----- 顧客データ -----\n",
        "cursor.execute(\n",
        "    \"create table customers(id integer PRIMARY KEY, first_name text, last_name text, age integer)\"\n",
        "    )\n",
        "\n",
        "# 複数のデータをまとめて追加\n",
        "sql = \"insert into customers(first_name, last_name, age) values(?, ?, ?)\"\n",
        "data = [(\"Taro\", \"Yamada\", 21),\n",
        "        (\"Hanako\", \"Sato\", 23),\n",
        "        (\"Jiro\", \"Suzuki\", 19)]\n",
        "cursor.executemany(sql, data)\n",
        "\n",
        "# -----発注データ -----\n",
        "cursor.execute(  # 発注者, 数量\n",
        "    \"create table orders(customer integer, amount integer)\"\n",
        "    )\n",
        "\n",
        "# 複数のデータをまとめて追加\n",
        "sql = \"insert into orders(customer, amount) values(?, ?)\"\n",
        "data = [(2, 12),\n",
        "        (1, 5),\n",
        "        (3, 18),\n",
        "        (3, 9),\n",
        "        (2, 36)]\n",
        "cursor.executemany(sql, data)\n",
        "\n",
        "connect.commit()\n",
        "connect.close()"
      ],
      "execution_count": null,
      "outputs": []
    },
    {
      "cell_type": "markdown",
      "metadata": {
        "id": "gqdzH53chp64"
      },
      "source": [
        "複数のテーブルを連携させるためには、`join`を使います。  \n",
        "以下のセルのコードでは、`join`を使って顧客のテーブル、発注のテーブル、2つを連携させています。  \n",
        "一定の数量以上の発注があった顧客名を取り出しますが、`select distinct`により結果の重複は除かれます。  "
      ]
    },
    {
      "cell_type": "code",
      "metadata": {
        "id": "ro-KHmxAWayA"
      },
      "source": [
        "import sqlite3\n",
        "\n",
        "connect = sqlite3.connect(\"shop.db\")\n",
        "cursor = connect.cursor()\n",
        "\n",
        "sql = \"\"\"\n",
        "select distinct first_name, last_name\n",
        "from customers join orders\n",
        "on orders.customer = customers.id\n",
        "where orders.amount >= 10\n",
        "\"\"\"\n",
        "for row in cursor.execute(sql):\n",
        "    print(row)\n",
        "\n",
        "connect.commit()\n",
        "connect.close()"
      ],
      "execution_count": null,
      "outputs": []
    },
    {
      "cell_type": "markdown",
      "metadata": {
        "id": "Omd19NXPiRZl"
      },
      "source": [
        "複数のテーブルを連携させることで、大規模なデータを効率よく扱うことが可能になります。"
      ]
    },
    {
      "cell_type": "markdown",
      "metadata": {
        "id": "RVyvBbh5iume"
      },
      "source": [
        "## @ 演習"
      ]
    },
    {
      "cell_type": "markdown",
      "metadata": {
        "id": "-VkOMyVppxwA"
      },
      "source": [
        "上記で作成した顧客のテーブルと発注のテーブルを使用し、  \n",
        "「数量10未満の発注があった顧客の名前と年齢」  \n",
        "を取得し表示しましょう。  \n",
        "以下のセルの指定された箇所に、SQL文を追記してください。  "
      ]
    },
    {
      "cell_type": "code",
      "metadata": {
        "id": "BkcBMAo7rJMy"
      },
      "source": [
        "import sqlite3\n",
        "\n",
        "connect = sqlite3.connect(\"shop.db\")\n",
        "cursor = connect.cursor()\n",
        "\n",
        "# ----- 以下にSQL文を記入\n",
        "sql = \"\"\"\n",
        "\n",
        "\n",
        "\n",
        "\n",
        "\"\"\"\n",
        "for row in cursor.execute(sql):\n",
        "    print(row)\n",
        "\n",
        "connect.commit()\n",
        "connect.close()"
      ],
      "execution_count": null,
      "outputs": []
    },
    {
      "cell_type": "markdown",
      "metadata": {
        "id": "tg-o0tINPE8T"
      },
      "source": [
        "余裕のある方は、製品データを格納するテーブル`products`を作成し、他のテーブルと連携させることにトライしてみましょう。"
      ]
    },
    {
      "cell_type": "markdown",
      "metadata": {
        "collapsed": true,
        "id": "oWYzjdm0dBqE"
      },
      "source": [
        "## @解答例"
      ]
    },
    {
      "cell_type": "code",
      "metadata": {
        "id": "7WIyEJE-1BSu"
      },
      "source": [
        "import sqlite3\n",
        "\n",
        "connect = sqlite3.connect(\"shop.db\")\n",
        "cursor = connect.cursor()\n",
        "\n",
        "# ----- 以下にSQL文を記入\n",
        "sql = \"\"\"\n",
        "select distinct first_name, last_name, age\n",
        "from customers join orders\n",
        "on orders.customer = customers.id\n",
        "where orders.amount < 10\n",
        "\"\"\"\n",
        "for row in cursor.execute(sql):\n",
        "    print(row)\n",
        "\n",
        "connect.commit()\n",
        "connect.close()"
      ],
      "execution_count": null,
      "outputs": []
    }
  ]
}